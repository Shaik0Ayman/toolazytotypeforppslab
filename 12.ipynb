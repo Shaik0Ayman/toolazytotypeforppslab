# 1. Load data from csv file
import pandas as pd
df = pd.read_csv("data.csv")

# 2. Selecting specific columns
selected_columns = df[["column1", "column2"]]

# 3. Filtering rows based on conditions
filtered_rows = df[df["column1"] > 10]

# 4. Renaming columns
df.rename(columns={"old_column_name": "new_column_name"}, inplace=True)

# 5. Grouping data by specific columns
grouped_data = df.groupby("column1").mean()

# 6. Merging two DataFrames
# Assuming df1 and df2 are already defined
merged_data = pd.merge(df1, df2, on="common_column")

# Creating a Series object
# 1. Pandas Series from list
data = pd.Series([1, 2, 3, 4, 5])
print(data)

# 2. Pandas Series with custom index labels
s = pd.Series(['Dhoni', 'Virat', 'Rohit', 'Raina'], index=['1', '2', '3', '4'])
print(s)

# 3. Accessing values and index of a Series
s = pd.Series([1, 2, 3, 4, 5])
print(s.values)
print(s.index)

# 4. Pandas DataFrame from dictionary
data = {'name': ['Alice', 'Bob', 'Charlie', 'David'],
        'age': [25, 30, 35, 40],
        'gender': ['F', 'M', 'M', 'M']}
df = pd.DataFrame(data)
print(df)

# 5. DataFrame with specific columns
d = {'name': ['Bob', 'Bart', 'Bobby'], 'occupation': ['Lawyer', 'Programmer', 'Teacher']}
frame = pd.DataFrame(d, columns=['name', 'occupation'])
print(frame)

# 6. Simple Operations with DataFrames
data = {'Fruit': ['Apple', 'Banana', 'Orange', 'Mango'],
        'Weight': [200, 150, 300, 250],
        'Price': [90, 40, 100, 50]}
df = pd.DataFrame(data)

# First two entries
s1 = df.head(2)
print(s1)

# Last two entries
s2 = df.tail(2)
print(s2)

# Accessing columns
print(df['Price'])

# Accessing rows using .loc[]
print(df.loc[2])

# Adding column "Kind"
df2 = pd.DataFrame(data, columns=['Fruit', 'Weight', 'Price', 'Kind'])
print(df2)

# Assigning values to "Kind"
df2['Kind'] = 'Round'
print(df2)

# Mapping a Series to a DataFrame column
st_ser = pd.Series(["Round", "Long", "Round", "Oval-ish"])
df2['Kind'] = st_ser
print(df2)

# Using expressions to create new column
df2['costly'] = (df2.Price > 60)
print(df2)

# Deleting a column
del df2['costly']
print(df2)

# Transposing the DataFrame
print(df2.T)

# 7. Querying DataFrames
# i) Query on single column
df = pd.DataFrame(
    [['Rojer', 23, 100000],
     ['Robert', 41, 10000],
     ['Josephine', 38, 56000],
     ['Sara', 5, 0],
     ['Sofia', 1, 0],
     ['Stella', 36, 5000]],
    columns=['Name', 'Age', 'Salary']
)
df1 = df.query('Age > 30')
print(df1)

# ii) Query with multiple conditions using AND
df1 = df.query('Age < 35 and Salary > 75000')
print(df1)

# iii) Using inplace parameter in query (note: will return None if inplace=True)
df.query('Age < 35 and Salary > 75000', inplace=True)
print(df)
